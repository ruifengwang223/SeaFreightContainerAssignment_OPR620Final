{
 "cells": [
  {
   "cell_type": "code",
   "execution_count": 1,
   "id": "6981e92c",
   "metadata": {},
   "outputs": [],
   "source": [
    "import pandas as pd\n",
    "import numpy as np"
   ]
  },
  {
   "cell_type": "code",
   "execution_count": 3,
   "id": "c36ca232",
   "metadata": {},
   "outputs": [
    {
     "name": "stderr",
     "output_type": "stream",
     "text": [
      "C:\\Users\\37605\\AppData\\Local\\Temp\\ipykernel_15704\\3845512442.py:19: FutureWarning: The frame.append method is deprecated and will be removed from pandas in a future version. Use pandas.concat instead.\n",
      "  container_items = container_items.append(item)\n",
      "C:\\Users\\37605\\AppData\\Local\\Temp\\ipykernel_15704\\3845512442.py:19: FutureWarning: The frame.append method is deprecated and will be removed from pandas in a future version. Use pandas.concat instead.\n",
      "  container_items = container_items.append(item)\n",
      "C:\\Users\\37605\\AppData\\Local\\Temp\\ipykernel_15704\\3845512442.py:19: FutureWarning: The frame.append method is deprecated and will be removed from pandas in a future version. Use pandas.concat instead.\n",
      "  container_items = container_items.append(item)\n",
      "C:\\Users\\37605\\AppData\\Local\\Temp\\ipykernel_15704\\3845512442.py:19: FutureWarning: The frame.append method is deprecated and will be removed from pandas in a future version. Use pandas.concat instead.\n",
      "  container_items = container_items.append(item)\n",
      "C:\\Users\\37605\\AppData\\Local\\Temp\\ipykernel_15704\\3845512442.py:19: FutureWarning: The frame.append method is deprecated and will be removed from pandas in a future version. Use pandas.concat instead.\n",
      "  container_items = container_items.append(item)\n",
      "C:\\Users\\37605\\AppData\\Local\\Temp\\ipykernel_15704\\3845512442.py:19: FutureWarning: The frame.append method is deprecated and will be removed from pandas in a future version. Use pandas.concat instead.\n",
      "  container_items = container_items.append(item)\n",
      "C:\\Users\\37605\\AppData\\Local\\Temp\\ipykernel_15704\\3845512442.py:19: FutureWarning: The frame.append method is deprecated and will be removed from pandas in a future version. Use pandas.concat instead.\n",
      "  container_items = container_items.append(item)\n",
      "C:\\Users\\37605\\AppData\\Local\\Temp\\ipykernel_15704\\3845512442.py:19: FutureWarning: The frame.append method is deprecated and will be removed from pandas in a future version. Use pandas.concat instead.\n",
      "  container_items = container_items.append(item)\n",
      "C:\\Users\\37605\\AppData\\Local\\Temp\\ipykernel_15704\\3845512442.py:19: FutureWarning: The frame.append method is deprecated and will be removed from pandas in a future version. Use pandas.concat instead.\n",
      "  container_items = container_items.append(item)\n",
      "C:\\Users\\37605\\AppData\\Local\\Temp\\ipykernel_15704\\3845512442.py:19: FutureWarning: The frame.append method is deprecated and will be removed from pandas in a future version. Use pandas.concat instead.\n",
      "  container_items = container_items.append(item)\n",
      "C:\\Users\\37605\\AppData\\Local\\Temp\\ipykernel_15704\\3845512442.py:19: FutureWarning: The frame.append method is deprecated and will be removed from pandas in a future version. Use pandas.concat instead.\n",
      "  container_items = container_items.append(item)\n",
      "C:\\Users\\37605\\AppData\\Local\\Temp\\ipykernel_15704\\3845512442.py:19: FutureWarning: The frame.append method is deprecated and will be removed from pandas in a future version. Use pandas.concat instead.\n",
      "  container_items = container_items.append(item)\n",
      "C:\\Users\\37605\\AppData\\Local\\Temp\\ipykernel_15704\\3845512442.py:19: FutureWarning: The frame.append method is deprecated and will be removed from pandas in a future version. Use pandas.concat instead.\n",
      "  container_items = container_items.append(item)\n",
      "C:\\Users\\37605\\AppData\\Local\\Temp\\ipykernel_15704\\3845512442.py:19: FutureWarning: The frame.append method is deprecated and will be removed from pandas in a future version. Use pandas.concat instead.\n",
      "  container_items = container_items.append(item)\n",
      "C:\\Users\\37605\\AppData\\Local\\Temp\\ipykernel_15704\\3845512442.py:19: FutureWarning: The frame.append method is deprecated and will be removed from pandas in a future version. Use pandas.concat instead.\n",
      "  container_items = container_items.append(item)\n",
      "C:\\Users\\37605\\AppData\\Local\\Temp\\ipykernel_15704\\3845512442.py:19: FutureWarning: The frame.append method is deprecated and will be removed from pandas in a future version. Use pandas.concat instead.\n",
      "  container_items = container_items.append(item)\n",
      "C:\\Users\\37605\\AppData\\Local\\Temp\\ipykernel_15704\\3845512442.py:19: FutureWarning: The frame.append method is deprecated and will be removed from pandas in a future version. Use pandas.concat instead.\n",
      "  container_items = container_items.append(item)\n",
      "C:\\Users\\37605\\AppData\\Local\\Temp\\ipykernel_15704\\3845512442.py:19: FutureWarning: The frame.append method is deprecated and will be removed from pandas in a future version. Use pandas.concat instead.\n",
      "  container_items = container_items.append(item)\n",
      "C:\\Users\\37605\\AppData\\Local\\Temp\\ipykernel_15704\\3845512442.py:19: FutureWarning: The frame.append method is deprecated and will be removed from pandas in a future version. Use pandas.concat instead.\n",
      "  container_items = container_items.append(item)\n",
      "C:\\Users\\37605\\AppData\\Local\\Temp\\ipykernel_15704\\3845512442.py:19: FutureWarning: The frame.append method is deprecated and will be removed from pandas in a future version. Use pandas.concat instead.\n",
      "  container_items = container_items.append(item)\n",
      "C:\\Users\\37605\\AppData\\Local\\Temp\\ipykernel_15704\\3845512442.py:19: FutureWarning: The frame.append method is deprecated and will be removed from pandas in a future version. Use pandas.concat instead.\n",
      "  container_items = container_items.append(item)\n",
      "C:\\Users\\37605\\AppData\\Local\\Temp\\ipykernel_15704\\3845512442.py:19: FutureWarning: The frame.append method is deprecated and will be removed from pandas in a future version. Use pandas.concat instead.\n",
      "  container_items = container_items.append(item)\n",
      "C:\\Users\\37605\\AppData\\Local\\Temp\\ipykernel_15704\\3845512442.py:19: FutureWarning: The frame.append method is deprecated and will be removed from pandas in a future version. Use pandas.concat instead.\n",
      "  container_items = container_items.append(item)\n"
     ]
    },
    {
     "name": "stdout",
     "output_type": "stream",
     "text": [
      "Allocated containers:\n",
      "FCL40: IDs [17.0, 25.0, 15.0, 23.0, 16.0, 18.0, 22.0, 24.0, 9.0, 1.0, 11.0, 21.0, 2.0, 10.0], Total Weight: 14353.0, Total Volume: 64.4\n",
      "FCL40: IDs [7.0, 20.0, 3.0, 12.0, 8.0, 19.0, 5.0, 4.0, 14.0], Total Weight: 17751.0, Total Volume: 63.4\n",
      "FCL20: IDs [6.0, 13.0], Total Weight: 6252.0, Total Volume: 19.6\n",
      "Total cost: 14700\n"
     ]
    },
    {
     "name": "stderr",
     "output_type": "stream",
     "text": [
      "C:\\Users\\37605\\AppData\\Local\\Temp\\ipykernel_15704\\3845512442.py:19: FutureWarning: The frame.append method is deprecated and will be removed from pandas in a future version. Use pandas.concat instead.\n",
      "  container_items = container_items.append(item)\n",
      "C:\\Users\\37605\\AppData\\Local\\Temp\\ipykernel_15704\\3845512442.py:19: FutureWarning: The frame.append method is deprecated and will be removed from pandas in a future version. Use pandas.concat instead.\n",
      "  container_items = container_items.append(item)\n"
     ]
    }
   ],
   "source": [
    "import pandas as pd\n",
    "import numpy as np\n",
    "\n",
    "df = pd.read_csv('Sample Data.csv')\n",
    "\n",
    "def fill_container_greedy(remaining_items, max_weight, max_volume):\n",
    "\n",
    "    remaining_items['ratio'] = remaining_items['Volume(CBM)'] / remaining_items['Weight(kg)']\n",
    "    items_sorted = remaining_items.sort_values('ratio', ascending=False)\n",
    "\n",
    "    container_items = pd.DataFrame()\n",
    "    total_weight = total_volume = 0\n",
    "\n",
    "    for _, item in items_sorted.iterrows():\n",
    "        if total_weight + item['Weight(kg)'] <= max_weight and total_volume + item['Volume(CBM)'] <= max_volume:\n",
    "            container_items = container_items.append(item)\n",
    "            total_weight += item['Weight(kg)']\n",
    "            total_volume += item['Volume(CBM)']\n",
    "\n",
    "    remaining_items = remaining_items.drop(container_items.index)\n",
    "    return container_items, remaining_items\n",
    "\n",
    "\n",
    "def allocate_items(df, specs, costs):\n",
    "    allocation = {'FCL40': [], 'FCL20': [], 'LCL': []}\n",
    "    remaining_items = df.copy()\n",
    "\n",
    "    while not remaining_items.empty:\n",
    "        if (remaining_items['Weight(kg)'].sum() <= specs['FCL20']['weight'] and\n",
    "                remaining_items['Volume(CBM)'].sum() <= specs['FCL20']['volume']):\n",
    "            container_items, remaining_items = fill_container_greedy(remaining_items, specs['FCL20']['weight'], specs['FCL20']['volume'])\n",
    "            allocation['FCL20'].append(container_items)\n",
    "        elif (remaining_items['Weight(kg)'].sum() > specs['FCL20']['weight'] or\n",
    "              remaining_items['Volume(CBM)'].sum() > specs['FCL20']['volume']):\n",
    "            container_items, remaining_items = fill_container_greedy(remaining_items, specs['FCL40']['weight'], specs['FCL40']['volume'])\n",
    "            allocation['FCL40'].append(container_items)\n",
    "        else:\n",
    "            allocation['LCL'].append(remaining_items)\n",
    "            break\n",
    "\n",
    "    total_cost = (len(allocation['FCL40']) * costs['FCL40'] +\n",
    "                  len(allocation['FCL20']) * costs['FCL20'] +\n",
    "                  sum(container['Volume(CBM)'].sum() for container in allocation['LCL']) * costs['LCL'])\n",
    "\n",
    "    return allocation, total_cost\n",
    "\n",
    "specs = {\n",
    "    'FCL40': {'weight': 30480, 'volume': 67},\n",
    "    'FCL20': {'weight': 14969, 'volume': 33}\n",
    "}\n",
    "costs = {\n",
    "    'FCL40': 5600,\n",
    "    'FCL20': 3500,\n",
    "    'LCL': 778\n",
    "}\n",
    "\n",
    "allocation, total_cost = allocate_items(df, specs, costs)\n",
    "\n",
    "print(\"Allocated containers:\")\n",
    "for ctype, clist in allocation.items():\n",
    "    for c in clist:\n",
    "        print(f\"{ctype}: IDs {c['ID'].tolist()}, Total Weight: {c['Weight(kg)'].sum()}, Total Volume: {c['Volume(CBM)'].sum()}\")\n",
    "print(f\"Total cost: {total_cost}\")\n"
   ]
  },
  {
   "cell_type": "code",
   "execution_count": 329,
   "id": "38182687",
   "metadata": {},
   "outputs": [
    {
     "name": "stdout",
     "output_type": "stream",
     "text": [
      "FCL40 #1: IDs [17.0, 25.0, 15.0, 23.0, 16.0, 18.0, 22.0, 24.0, 9.0, 1.0, 11.0, 21.0, 2.0, 10.0], Total Weight: 14353.0, Total Volume: 64.4\n",
      "FCL40 #2: IDs [7.0, 20.0, 3.0, 12.0, 8.0, 19.0, 5.0, 4.0, 14.0], Total Weight: 17751.0, Total Volume: 63.4\n",
      "FCL20 #1: IDs [6.0, 13.0], Total Weight: 6252.0, Total Volume: 19.6\n",
      "Total container cost: $14700.00\n",
      "Total delay penalty cost: $3030.00\n",
      "Total cost: $17730.00\n"
     ]
    }
   ],
   "source": [
    "transport_time_FCL = np.random.randint(19, 23) \n",
    "transport_time_LCL = np.random.randint(25, 31) \n",
    "\n",
    "weather_risk = np.random.choice([0, 1, 2, 3], p=[0.97, 0.01, 0.01, 0.01])\n",
    "\n",
    "df['Allocation'] = ''\n",
    "for container_type, containers in allocation.items():\n",
    "    for container in containers:\n",
    "        df.loc[container.index, 'Allocation'] = container_type\n",
    "\n",
    "df['Transport Time'] = np.where(df['Allocation'] == 'FCL40', transport_time_FCL,\n",
    "                       np.where(df['Allocation'] == 'FCL20', transport_time_FCL,\n",
    "                       transport_time_LCL))\n",
    "\n",
    "df['Transport Time'] += weather_risk\n",
    "df['Delay Time'] = df['Transport Time'] - df['Time Requirement(Day)']\n",
    "df['Delay Time'] = df['Delay Time'].clip(lower=0)\n",
    "df['Delay Penalty Cost'] = df['Delay Time'] * df['Delayed Penalty(per day)']\n",
    "\n",
    "total_delay_penalty_cost = df['Delay Penalty Cost'].sum()\n",
    "\n",
    "for ctype, clist in allocation.items():\n",
    "    for idx, c in enumerate(clist):\n",
    "        print(f\"{ctype} #{idx+1}: IDs {c['ID'].tolist()}, Total Weight: {c['Weight(kg)'].sum()}, Total Volume: {c['Volume(CBM)'].sum()}\")\n",
    "\n",
    "overall_cost = total_cost + total_delay_penalty_cost\n",
    "\n",
    "print(f\"Total container cost: ${total_cost}.00\")\n",
    "print(f\"Total delay penalty cost: ${total_delay_penalty_cost}.00\")\n",
    "print(f\"Total cost: ${overall_cost}.00\")"
   ]
  },
  {
   "cell_type": "code",
   "execution_count": 330,
   "id": "a7fc645f",
   "metadata": {},
   "outputs": [],
   "source": [
    "# Create a new dataframe to record the cost ONLY RUN AT THE FIRST TIME!\n",
    "# cost_records = pd.DataFrame(columns=['Total Container Cost', 'Total Delay Penalty Cost', 'Overall Cost'])"
   ]
  },
  {
   "cell_type": "code",
   "execution_count": 331,
   "id": "2f5bb182",
   "metadata": {},
   "outputs": [
    {
     "name": "stderr",
     "output_type": "stream",
     "text": [
      "C:\\Users\\37605\\AppData\\Local\\Temp\\ipykernel_15704\\113273405.py:17: FutureWarning: The frame.append method is deprecated and will be removed from pandas in a future version. Use pandas.concat instead.\n",
      "  cost_records = cost_records.append(new_record, ignore_index=True)\n"
     ]
    },
    {
     "data": {
      "text/html": [
       "<div>\n",
       "<style scoped>\n",
       "    .dataframe tbody tr th:only-of-type {\n",
       "        vertical-align: middle;\n",
       "    }\n",
       "\n",
       "    .dataframe tbody tr th {\n",
       "        vertical-align: top;\n",
       "    }\n",
       "\n",
       "    .dataframe thead th {\n",
       "        text-align: right;\n",
       "    }\n",
       "</style>\n",
       "<table border=\"1\" class=\"dataframe\">\n",
       "  <thead>\n",
       "    <tr style=\"text-align: right;\">\n",
       "      <th></th>\n",
       "      <th>Total Container Cost</th>\n",
       "      <th>Total Delay Penalty Cost</th>\n",
       "      <th>Overall Cost</th>\n",
       "    </tr>\n",
       "  </thead>\n",
       "  <tbody>\n",
       "    <tr>\n",
       "      <th>0</th>\n",
       "      <td>14700</td>\n",
       "      <td>200</td>\n",
       "      <td>14900</td>\n",
       "    </tr>\n",
       "    <tr>\n",
       "      <th>1</th>\n",
       "      <td>14700</td>\n",
       "      <td>1085</td>\n",
       "      <td>15785</td>\n",
       "    </tr>\n",
       "    <tr>\n",
       "      <th>2</th>\n",
       "      <td>14700</td>\n",
       "      <td>1085</td>\n",
       "      <td>15785</td>\n",
       "    </tr>\n",
       "    <tr>\n",
       "      <th>3</th>\n",
       "      <td>14700</td>\n",
       "      <td>1595</td>\n",
       "      <td>16295</td>\n",
       "    </tr>\n",
       "    <tr>\n",
       "      <th>4</th>\n",
       "      <td>14700</td>\n",
       "      <td>200</td>\n",
       "      <td>14900</td>\n",
       "    </tr>\n",
       "    <tr>\n",
       "      <th>...</th>\n",
       "      <td>...</td>\n",
       "      <td>...</td>\n",
       "      <td>...</td>\n",
       "    </tr>\n",
       "    <tr>\n",
       "      <th>95</th>\n",
       "      <td>14700</td>\n",
       "      <td>200</td>\n",
       "      <td>14900</td>\n",
       "    </tr>\n",
       "    <tr>\n",
       "      <th>96</th>\n",
       "      <td>14700</td>\n",
       "      <td>575</td>\n",
       "      <td>15275</td>\n",
       "    </tr>\n",
       "    <tr>\n",
       "      <th>97</th>\n",
       "      <td>14700</td>\n",
       "      <td>575</td>\n",
       "      <td>15275</td>\n",
       "    </tr>\n",
       "    <tr>\n",
       "      <th>98</th>\n",
       "      <td>14700</td>\n",
       "      <td>575</td>\n",
       "      <td>15275</td>\n",
       "    </tr>\n",
       "    <tr>\n",
       "      <th>99</th>\n",
       "      <td>14700</td>\n",
       "      <td>3030</td>\n",
       "      <td>17730</td>\n",
       "    </tr>\n",
       "  </tbody>\n",
       "</table>\n",
       "<p>100 rows × 3 columns</p>\n",
       "</div>"
      ],
      "text/plain": [
       "   Total Container Cost Total Delay Penalty Cost Overall Cost\n",
       "0                 14700                      200        14900\n",
       "1                 14700                     1085        15785\n",
       "2                 14700                     1085        15785\n",
       "3                 14700                     1595        16295\n",
       "4                 14700                      200        14900\n",
       "..                  ...                      ...          ...\n",
       "95                14700                      200        14900\n",
       "96                14700                      575        15275\n",
       "97                14700                      575        15275\n",
       "98                14700                      575        15275\n",
       "99                14700                     3030        17730\n",
       "\n",
       "[100 rows x 3 columns]"
      ]
     },
     "execution_count": 331,
     "metadata": {},
     "output_type": "execute_result"
    }
   ],
   "source": [
    "def calculate_costs():\n",
    "    total_container_cost = total_cost\n",
    "    overall_cost = total_container_cost + total_delay_penalty_cost\n",
    "    \n",
    "    return total_container_cost, total_delay_penalty_cost, overall_cost\n",
    "\n",
    "total_container_cost, total_delay_penalty_cost, overall_cost = calculate_costs()\n",
    "new_record = {\n",
    "    'Total Container Cost': total_container_cost,\n",
    "    'Total Delay Penalty Cost': total_delay_penalty_cost,\n",
    "    'Overall Cost': overall_cost\n",
    "}\n",
    "cost_records = cost_records.append(new_record, ignore_index=True)\n",
    "\n",
    "cost_records"
   ]
  },
  {
   "cell_type": "code",
   "execution_count": 333,
   "id": "fd42aab7",
   "metadata": {},
   "outputs": [
    {
     "name": "stdout",
     "output_type": "stream",
     "text": [
      "Cost records have been saved to cost_records.csv\n"
     ]
    }
   ],
   "source": [
    "output_file_path = 'cost_records.csv'\n",
    "cost_records.to_csv(output_file_path, index=False)\n",
    "\n",
    "print(f\"Cost records have been saved to {output_file_path}\")"
   ]
  },
  {
   "cell_type": "code",
   "execution_count": 337,
   "id": "e9610e08",
   "metadata": {},
   "outputs": [
    {
     "data": {
      "image/png": "[encoded data removed]",
      "text/plain": [
       "<Figure size 720x432 with 1 Axes>"
      ]
     },
     "metadata": {},
     "output_type": "display_data"
    }
   ],
   "source": [
    "import matplotlib.pyplot as plt\n",
    "import seaborn as sns\n",
    "\n",
    "sns.set(style=\"whitegrid\")\n",
    "\n",
    "plt.figure(figsize=(10, 6))\n",
    "sns.histplot(cost_records['Total Delay Penalty Cost'], kde=True)\n",
    "\n",
    "plt.title('Distribution of Total Delayed Penalty Cost')\n",
    "plt.xlabel('Total Delayed Penalty Cost')\n",
    "plt.ylabel('Frequency')\n",
    "\n",
    "plt.show()"
   ]
  },
  {
   "cell_type": "code",
   "execution_count": null,
   "id": "4fbfa3f2",
   "metadata": {},
   "outputs": [],
   "source": []
  }
 ],
 "metadata": {
  "kernelspec": {
   "display_name": "Python 3 (ipykernel)",
   "language": "python",
   "name": "python3"
  },
  "language_info": {
   "codemirror_mode": {
    "name": "ipython",
    "version": 3
   },
   "file_extension": ".py",
   "mimetype": "text/x-python",
   "name": "python",
   "nbconvert_exporter": "python",
   "pygments_lexer": "ipython3",
   "version": "3.9.12"
  }
 },
 "nbformat": 4,
 "nbformat_minor": 5
}
